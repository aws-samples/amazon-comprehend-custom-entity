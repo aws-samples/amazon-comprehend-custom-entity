{
  "cells": [
    {
      "cell_type": "markdown",
      "source": [
        "# How to prepare a dataset and submit a custom entity recognizer for Amazon Comprehend\n",
        "\n",
        "This notebook walks through how to prepare a training dataset for custom entities in Amazon Comprehend\n",
        "\n",
        "More information on how to create a custom entity recognizer model can be found here.\n",
        "\n",
        "https://docs.aws.amazon.com/comprehend/latest/dg/training-recognizers.html\n",
        "\n",
        "\n",
        "\n"
      ],
      "metadata": {
        "_uuid": "1099b04396475b6a0143fa303da9fa44ad87b660"
      }
    },
    {
      "cell_type": "code",
      "source": [
        "# library imports\n",
        "import re\n",
        "import numpy as np\n",
        "import pandas as pd\n",
        "import matplotlib\n",
        "import csv\n"
      ],
      "outputs": [],
      "execution_count": 1,
      "metadata": {
        "_cell_guid": "b1076dfc-b9ad-4769-8c92-a6c4dae69d19",
        "_kg_hide-input": true,
        "_kg_hide-output": true,
        "_uuid": "8f2839f25d086af736a60e9eeb907d3b93b6e0e5",
        "scrolled": false
      }
    },
    {
      "cell_type": "markdown",
      "source": [
        "In this example we will be using the following twitter dataset. https://www.kaggle.com/thoughtvector/customer-support-on-twitter\n",
        "Download the dataset and save it in the ./data folder.\n"
      ],
      "metadata": {
        "_uuid": "54e810d8b9c1936c8569093badabc4d7b25ea881"
      }
    },
    {
      "cell_type": "code",
      "source": [
        "tweets = pd.read_csv('./data/twcs.csv',encoding='utf-8')\n",
        "print(tweets.shape)\n",
        "tweets.head()"
      ],
      "outputs": [
        {
          "output_type": "stream",
          "name": "stdout",
          "text": [
            "(2811774, 7)\n"
          ]
        },
        {
          "output_type": "execute_result",
          "execution_count": 4,
          "data": {
            "text/html": [
              "<div>\n",
              "<style scoped>\n",
              "    .dataframe tbody tr th:only-of-type {\n",
              "        vertical-align: middle;\n",
              "    }\n",
              "\n",
              "    .dataframe tbody tr th {\n",
              "        vertical-align: top;\n",
              "    }\n",
              "\n",
              "    .dataframe thead th {\n",
              "        text-align: right;\n",
              "    }\n",
              "</style>\n",
              "<table border=\"1\" class=\"dataframe\">\n",
              "  <thead>\n",
              "    <tr style=\"text-align: right;\">\n",
              "      <th></th>\n",
              "      <th>tweet_id</th>\n",
              "      <th>author_id</th>\n",
              "      <th>inbound</th>\n",
              "      <th>created_at</th>\n",
              "      <th>text</th>\n",
              "      <th>response_tweet_id</th>\n",
              "      <th>in_response_to_tweet_id</th>\n",
              "    </tr>\n",
              "  </thead>\n",
              "  <tbody>\n",
              "    <tr>\n",
              "      <th>0</th>\n",
              "      <td>1</td>\n",
              "      <td>sprintcare</td>\n",
              "      <td>False</td>\n",
              "      <td>Tue Oct 31 22:10:47 +0000 2017</td>\n",
              "      <td>@115712 I understand. I would like to assist y...</td>\n",
              "      <td>2</td>\n",
              "      <td>3.0</td>\n",
              "    </tr>\n",
              "    <tr>\n",
              "      <th>1</th>\n",
              "      <td>2</td>\n",
              "      <td>115712</td>\n",
              "      <td>True</td>\n",
              "      <td>Tue Oct 31 22:11:45 +0000 2017</td>\n",
              "      <td>@sprintcare and how do you propose we do that</td>\n",
              "      <td>NaN</td>\n",
              "      <td>1.0</td>\n",
              "    </tr>\n",
              "    <tr>\n",
              "      <th>2</th>\n",
              "      <td>3</td>\n",
              "      <td>115712</td>\n",
              "      <td>True</td>\n",
              "      <td>Tue Oct 31 22:08:27 +0000 2017</td>\n",
              "      <td>@sprintcare I have sent several private messag...</td>\n",
              "      <td>1</td>\n",
              "      <td>4.0</td>\n",
              "    </tr>\n",
              "    <tr>\n",
              "      <th>3</th>\n",
              "      <td>4</td>\n",
              "      <td>sprintcare</td>\n",
              "      <td>False</td>\n",
              "      <td>Tue Oct 31 21:54:49 +0000 2017</td>\n",
              "      <td>@115712 Please send us a Private Message so th...</td>\n",
              "      <td>3</td>\n",
              "      <td>5.0</td>\n",
              "    </tr>\n",
              "    <tr>\n",
              "      <th>4</th>\n",
              "      <td>5</td>\n",
              "      <td>115712</td>\n",
              "      <td>True</td>\n",
              "      <td>Tue Oct 31 21:49:35 +0000 2017</td>\n",
              "      <td>@sprintcare I did.</td>\n",
              "      <td>4</td>\n",
              "      <td>6.0</td>\n",
              "    </tr>\n",
              "  </tbody>\n",
              "</table>\n",
              "</div>"
            ],
            "text/plain": [
              "   tweet_id   author_id  inbound                      created_at  \\\n",
              "0         1  sprintcare    False  Tue Oct 31 22:10:47 +0000 2017   \n",
              "1         2      115712     True  Tue Oct 31 22:11:45 +0000 2017   \n",
              "2         3      115712     True  Tue Oct 31 22:08:27 +0000 2017   \n",
              "3         4  sprintcare    False  Tue Oct 31 21:54:49 +0000 2017   \n",
              "4         5      115712     True  Tue Oct 31 21:49:35 +0000 2017   \n",
              "\n",
              "                                                text response_tweet_id  \\\n",
              "0  @115712 I understand. I would like to assist y...                 2   \n",
              "1      @sprintcare and how do you propose we do that               NaN   \n",
              "2  @sprintcare I have sent several private messag...                 1   \n",
              "3  @115712 Please send us a Private Message so th...                 3   \n",
              "4                                 @sprintcare I did.                 4   \n",
              "\n",
              "   in_response_to_tweet_id  \n",
              "0                      3.0  \n",
              "1                      1.0  \n",
              "2                      4.0  \n",
              "3                      5.0  \n",
              "4                      6.0  "
            ]
          },
          "metadata": {}
        }
      ],
      "execution_count": 4,
      "metadata": {
        "_uuid": "9365c16e4481ec49f5c084f7c3b0cf50dd55047f",
        "scrolled": true
      }
    },
    {
      "cell_type": "markdown",
      "source": [
        "<a id='data-wrangling'></a>"
      ],
      "metadata": {
        "_uuid": "845eba8749f15e1e2b10aa43414f40860259f4e0"
      }
    },
    {
      "cell_type": "markdown",
      "source": [
        "## Data Wrangling\n",
        "\n",
        "This is a very interesting tweet data set, about 3 million tweets, and we have information on the author of the tweets and whether the tweet was a query or a response (the \"inbound\" column). If the tweet was a query, the response_tweet_id gives the response made by the support team.\n",
        "\n",
        "It would be interesting to modify this dataframe to get query - response pairs in every row.\n",
        "The following code, to do just what we want, was pulled from [this kernel](https://www.kaggle.com/soaxelbrooke/first-inbound-and-response-tweets)"
      ],
      "metadata": {
        "_uuid": "5e053048057a5566a30aab3f0278aa529449938a"
      }
    },
    {
      "cell_type": "code",
      "source": [
        "first_inbound = tweets[pd.isnull(tweets.in_response_to_tweet_id) & tweets.inbound]\n",
        "\n",
        "QnR = pd.merge(first_inbound, tweets, left_on='tweet_id', \n",
        "                                  right_on='in_response_to_tweet_id')\n",
        "\n",
        "# Filter to only outbound replies (from companies)\n",
        "QnR = QnR[QnR.inbound_y ^ True]\n",
        "print(f'Data shape: {QnR.shape}')\n",
        "QnR.head()"
      ],
      "outputs": [
        {
          "output_type": "stream",
          "name": "stdout",
          "text": [
            "Data shape: (794299, 14)\n"
          ]
        },
        {
          "output_type": "execute_result",
          "execution_count": 5,
          "data": {
            "text/html": [
              "<div>\n",
              "<style scoped>\n",
              "    .dataframe tbody tr th:only-of-type {\n",
              "        vertical-align: middle;\n",
              "    }\n",
              "\n",
              "    .dataframe tbody tr th {\n",
              "        vertical-align: top;\n",
              "    }\n",
              "\n",
              "    .dataframe thead th {\n",
              "        text-align: right;\n",
              "    }\n",
              "</style>\n",
              "<table border=\"1\" class=\"dataframe\">\n",
              "  <thead>\n",
              "    <tr style=\"text-align: right;\">\n",
              "      <th></th>\n",
              "      <th>tweet_id_x</th>\n",
              "      <th>author_id_x</th>\n",
              "      <th>inbound_x</th>\n",
              "      <th>created_at_x</th>\n",
              "      <th>text_x</th>\n",
              "      <th>response_tweet_id_x</th>\n",
              "      <th>in_response_to_tweet_id_x</th>\n",
              "      <th>tweet_id_y</th>\n",
              "      <th>author_id_y</th>\n",
              "      <th>inbound_y</th>\n",
              "      <th>created_at_y</th>\n",
              "      <th>text_y</th>\n",
              "      <th>response_tweet_id_y</th>\n",
              "      <th>in_response_to_tweet_id_y</th>\n",
              "    </tr>\n",
              "  </thead>\n",
              "  <tbody>\n",
              "    <tr>\n",
              "      <th>0</th>\n",
              "      <td>8</td>\n",
              "      <td>115712</td>\n",
              "      <td>True</td>\n",
              "      <td>Tue Oct 31 21:45:10 +0000 2017</td>\n",
              "      <td>@sprintcare is the worst customer service</td>\n",
              "      <td>9,6,10</td>\n",
              "      <td>NaN</td>\n",
              "      <td>6</td>\n",
              "      <td>sprintcare</td>\n",
              "      <td>False</td>\n",
              "      <td>Tue Oct 31 21:46:24 +0000 2017</td>\n",
              "      <td>@115712 Can you please send us a private messa...</td>\n",
              "      <td>5,7</td>\n",
              "      <td>8.0</td>\n",
              "    </tr>\n",
              "    <tr>\n",
              "      <th>1</th>\n",
              "      <td>8</td>\n",
              "      <td>115712</td>\n",
              "      <td>True</td>\n",
              "      <td>Tue Oct 31 21:45:10 +0000 2017</td>\n",
              "      <td>@sprintcare is the worst customer service</td>\n",
              "      <td>9,6,10</td>\n",
              "      <td>NaN</td>\n",
              "      <td>9</td>\n",
              "      <td>sprintcare</td>\n",
              "      <td>False</td>\n",
              "      <td>Tue Oct 31 21:46:14 +0000 2017</td>\n",
              "      <td>@115712 I would love the chance to review the ...</td>\n",
              "      <td>NaN</td>\n",
              "      <td>8.0</td>\n",
              "    </tr>\n",
              "    <tr>\n",
              "      <th>2</th>\n",
              "      <td>8</td>\n",
              "      <td>115712</td>\n",
              "      <td>True</td>\n",
              "      <td>Tue Oct 31 21:45:10 +0000 2017</td>\n",
              "      <td>@sprintcare is the worst customer service</td>\n",
              "      <td>9,6,10</td>\n",
              "      <td>NaN</td>\n",
              "      <td>10</td>\n",
              "      <td>sprintcare</td>\n",
              "      <td>False</td>\n",
              "      <td>Tue Oct 31 21:45:59 +0000 2017</td>\n",
              "      <td>@115712 Hello! We never like our customers to ...</td>\n",
              "      <td>NaN</td>\n",
              "      <td>8.0</td>\n",
              "    </tr>\n",
              "    <tr>\n",
              "      <th>3</th>\n",
              "      <td>18</td>\n",
              "      <td>115713</td>\n",
              "      <td>True</td>\n",
              "      <td>Tue Oct 31 19:56:01 +0000 2017</td>\n",
              "      <td>@115714 y’all lie about your “great” connectio...</td>\n",
              "      <td>17</td>\n",
              "      <td>NaN</td>\n",
              "      <td>17</td>\n",
              "      <td>sprintcare</td>\n",
              "      <td>False</td>\n",
              "      <td>Tue Oct 31 19:59:13 +0000 2017</td>\n",
              "      <td>@115713 H there! We'd definitely like to work ...</td>\n",
              "      <td>16</td>\n",
              "      <td>18.0</td>\n",
              "    </tr>\n",
              "    <tr>\n",
              "      <th>4</th>\n",
              "      <td>20</td>\n",
              "      <td>115715</td>\n",
              "      <td>True</td>\n",
              "      <td>Tue Oct 31 22:03:34 +0000 2017</td>\n",
              "      <td>@115714 whenever I contact customer support, t...</td>\n",
              "      <td>19</td>\n",
              "      <td>NaN</td>\n",
              "      <td>19</td>\n",
              "      <td>sprintcare</td>\n",
              "      <td>False</td>\n",
              "      <td>Tue Oct 31 22:10:10 +0000 2017</td>\n",
              "      <td>@115715 Please send me a private message so th...</td>\n",
              "      <td>NaN</td>\n",
              "      <td>20.0</td>\n",
              "    </tr>\n",
              "  </tbody>\n",
              "</table>\n",
              "</div>"
            ],
            "text/plain": [
              "   tweet_id_x author_id_x  inbound_x                    created_at_x  \\\n",
              "0           8      115712       True  Tue Oct 31 21:45:10 +0000 2017   \n",
              "1           8      115712       True  Tue Oct 31 21:45:10 +0000 2017   \n",
              "2           8      115712       True  Tue Oct 31 21:45:10 +0000 2017   \n",
              "3          18      115713       True  Tue Oct 31 19:56:01 +0000 2017   \n",
              "4          20      115715       True  Tue Oct 31 22:03:34 +0000 2017   \n",
              "\n",
              "                                              text_x response_tweet_id_x  \\\n",
              "0          @sprintcare is the worst customer service              9,6,10   \n",
              "1          @sprintcare is the worst customer service              9,6,10   \n",
              "2          @sprintcare is the worst customer service              9,6,10   \n",
              "3  @115714 y’all lie about your “great” connectio...                  17   \n",
              "4  @115714 whenever I contact customer support, t...                  19   \n",
              "\n",
              "   in_response_to_tweet_id_x  tweet_id_y author_id_y  inbound_y  \\\n",
              "0                        NaN           6  sprintcare      False   \n",
              "1                        NaN           9  sprintcare      False   \n",
              "2                        NaN          10  sprintcare      False   \n",
              "3                        NaN          17  sprintcare      False   \n",
              "4                        NaN          19  sprintcare      False   \n",
              "\n",
              "                     created_at_y  \\\n",
              "0  Tue Oct 31 21:46:24 +0000 2017   \n",
              "1  Tue Oct 31 21:46:14 +0000 2017   \n",
              "2  Tue Oct 31 21:45:59 +0000 2017   \n",
              "3  Tue Oct 31 19:59:13 +0000 2017   \n",
              "4  Tue Oct 31 22:10:10 +0000 2017   \n",
              "\n",
              "                                              text_y response_tweet_id_y  \\\n",
              "0  @115712 Can you please send us a private messa...                 5,7   \n",
              "1  @115712 I would love the chance to review the ...                 NaN   \n",
              "2  @115712 Hello! We never like our customers to ...                 NaN   \n",
              "3  @115713 H there! We'd definitely like to work ...                  16   \n",
              "4  @115715 Please send me a private message so th...                 NaN   \n",
              "\n",
              "   in_response_to_tweet_id_y  \n",
              "0                        8.0  \n",
              "1                        8.0  \n",
              "2                        8.0  \n",
              "3                       18.0  \n",
              "4                       20.0  "
            ]
          },
          "metadata": {}
        }
      ],
      "execution_count": 5,
      "metadata": {
        "_cell_guid": "79c7e3d0-c299-4dcb-8224-4455121ee9b0",
        "_uuid": "d629ff2d2480ee46fbb7e2d37f6b5fab8052498a",
        "scrolled": false
      }
    },
    {
      "cell_type": "code",
      "source": [
        "#making sure the dataframe contains only the needed columns\n",
        "QnR = QnR[[\"author_id_x\",\"created_at_x\",\"text_x\",\"author_id_y\",\"created_at_y\",\"text_y\"]]\n",
        "QnR.head(5)"
      ],
      "outputs": [
        {
          "output_type": "execute_result",
          "execution_count": 6,
          "data": {
            "text/html": [
              "<div>\n",
              "<style scoped>\n",
              "    .dataframe tbody tr th:only-of-type {\n",
              "        vertical-align: middle;\n",
              "    }\n",
              "\n",
              "    .dataframe tbody tr th {\n",
              "        vertical-align: top;\n",
              "    }\n",
              "\n",
              "    .dataframe thead th {\n",
              "        text-align: right;\n",
              "    }\n",
              "</style>\n",
              "<table border=\"1\" class=\"dataframe\">\n",
              "  <thead>\n",
              "    <tr style=\"text-align: right;\">\n",
              "      <th></th>\n",
              "      <th>author_id_x</th>\n",
              "      <th>created_at_x</th>\n",
              "      <th>text_x</th>\n",
              "      <th>author_id_y</th>\n",
              "      <th>created_at_y</th>\n",
              "      <th>text_y</th>\n",
              "    </tr>\n",
              "  </thead>\n",
              "  <tbody>\n",
              "    <tr>\n",
              "      <th>0</th>\n",
              "      <td>115712</td>\n",
              "      <td>Tue Oct 31 21:45:10 +0000 2017</td>\n",
              "      <td>@sprintcare is the worst customer service</td>\n",
              "      <td>sprintcare</td>\n",
              "      <td>Tue Oct 31 21:46:24 +0000 2017</td>\n",
              "      <td>@115712 Can you please send us a private messa...</td>\n",
              "    </tr>\n",
              "    <tr>\n",
              "      <th>1</th>\n",
              "      <td>115712</td>\n",
              "      <td>Tue Oct 31 21:45:10 +0000 2017</td>\n",
              "      <td>@sprintcare is the worst customer service</td>\n",
              "      <td>sprintcare</td>\n",
              "      <td>Tue Oct 31 21:46:14 +0000 2017</td>\n",
              "      <td>@115712 I would love the chance to review the ...</td>\n",
              "    </tr>\n",
              "    <tr>\n",
              "      <th>2</th>\n",
              "      <td>115712</td>\n",
              "      <td>Tue Oct 31 21:45:10 +0000 2017</td>\n",
              "      <td>@sprintcare is the worst customer service</td>\n",
              "      <td>sprintcare</td>\n",
              "      <td>Tue Oct 31 21:45:59 +0000 2017</td>\n",
              "      <td>@115712 Hello! We never like our customers to ...</td>\n",
              "    </tr>\n",
              "    <tr>\n",
              "      <th>3</th>\n",
              "      <td>115713</td>\n",
              "      <td>Tue Oct 31 19:56:01 +0000 2017</td>\n",
              "      <td>@115714 y’all lie about your “great” connectio...</td>\n",
              "      <td>sprintcare</td>\n",
              "      <td>Tue Oct 31 19:59:13 +0000 2017</td>\n",
              "      <td>@115713 H there! We'd definitely like to work ...</td>\n",
              "    </tr>\n",
              "    <tr>\n",
              "      <th>4</th>\n",
              "      <td>115715</td>\n",
              "      <td>Tue Oct 31 22:03:34 +0000 2017</td>\n",
              "      <td>@115714 whenever I contact customer support, t...</td>\n",
              "      <td>sprintcare</td>\n",
              "      <td>Tue Oct 31 22:10:10 +0000 2017</td>\n",
              "      <td>@115715 Please send me a private message so th...</td>\n",
              "    </tr>\n",
              "  </tbody>\n",
              "</table>\n",
              "</div>"
            ],
            "text/plain": [
              "  author_id_x                    created_at_x  \\\n",
              "0      115712  Tue Oct 31 21:45:10 +0000 2017   \n",
              "1      115712  Tue Oct 31 21:45:10 +0000 2017   \n",
              "2      115712  Tue Oct 31 21:45:10 +0000 2017   \n",
              "3      115713  Tue Oct 31 19:56:01 +0000 2017   \n",
              "4      115715  Tue Oct 31 22:03:34 +0000 2017   \n",
              "\n",
              "                                              text_x author_id_y  \\\n",
              "0          @sprintcare is the worst customer service  sprintcare   \n",
              "1          @sprintcare is the worst customer service  sprintcare   \n",
              "2          @sprintcare is the worst customer service  sprintcare   \n",
              "3  @115714 y’all lie about your “great” connectio...  sprintcare   \n",
              "4  @115714 whenever I contact customer support, t...  sprintcare   \n",
              "\n",
              "                     created_at_y  \\\n",
              "0  Tue Oct 31 21:46:24 +0000 2017   \n",
              "1  Tue Oct 31 21:46:14 +0000 2017   \n",
              "2  Tue Oct 31 21:45:59 +0000 2017   \n",
              "3  Tue Oct 31 19:59:13 +0000 2017   \n",
              "4  Tue Oct 31 22:10:10 +0000 2017   \n",
              "\n",
              "                                              text_y  \n",
              "0  @115712 Can you please send us a private messa...  \n",
              "1  @115712 I would love the chance to review the ...  \n",
              "2  @115712 Hello! We never like our customers to ...  \n",
              "3  @115713 H there! We'd definitely like to work ...  \n",
              "4  @115715 Please send me a private message so th...  "
            ]
          },
          "metadata": {}
        }
      ],
      "execution_count": 6,
      "metadata": {
        "_uuid": "0428e41c670dbe801090613580cf22e3b41723b5"
      }
    },
    {
      "cell_type": "markdown",
      "source": [
        "## Filter to only telco tweets\n",
        "In our example, we want to create a custom entity to recognize smartphones devices. Let's filer our dataframe to only incclude the T-Mobile and Sprint tweets."
      ],
      "metadata": {}
    },
    {
      "cell_type": "code",
      "source": [
        "tweet_telco = QnR[QnR[\"author_id_y\"].isin([\"TMobileHelp\", \"sprintcare\"])]"
      ],
      "outputs": [],
      "execution_count": 7,
      "metadata": {}
    },
    {
      "cell_type": "markdown",
      "source": [
        "Let's concatenate the question and response into one column."
      ],
      "metadata": {}
    },
    {
      "cell_type": "code",
      "source": [
        "tweet_telco['text'] = tweet_telco['text_x']+ ' | ' + tweet_telco['text_y']"
      ],
      "outputs": [],
      "execution_count": null,
      "metadata": {}
    },
    {
      "cell_type": "markdown",
      "source": [
        "Let's save our telco tweets as a csv file."
      ],
      "metadata": {}
    },
    {
      "cell_type": "code",
      "source": [
        "\n",
        "tweet_telco['text'].to_csv('./data/tweet_telco.csv', encoding='utf-8', index=False)\n"
      ],
      "outputs": [],
      "execution_count": 8,
      "metadata": {}
    },
    {
      "cell_type": "markdown",
      "source": [
        "In order to create our dataset we need to provide an entity list for our new class named DEVICE.\n",
        "\n",
        "In order to find relevant entities, you can load a corpus into a word2vec model and generate a list of keywords that are similar. This technique will be used in the second example.\n",
        "\n",
        "For our purpose of finding devices, we will generate a list of different spellings of smartphones."
      ],
      "metadata": {}
    },
    {
      "cell_type": "code",
      "source": [
        "sphones = ['iPhone X', 'iPhoneX', 'iphoneX', 'Samsung Galaxy', 'Samsung Note', 'iphone', 'iPhone', 'android', 'Android']\n",
        "\n",
        "df_entity_list = pd.DataFrame(sphones, columns=['Text'])"
      ],
      "outputs": [],
      "execution_count": 12,
      "metadata": {}
    },
    {
      "cell_type": "markdown",
      "source": [
        "\n",
        "Let's add another column with our class label. This is required part of the Amazon Comprehend training dataset.\n",
        "\n",
        "More information can be found here.\n",
        "\n",
        "https://docs.aws.amazon.com/comprehend/latest/dg/cer-entity-list.html\n"
      ],
      "metadata": {}
    },
    {
      "cell_type": "code",
      "source": [
        "df_entity_list['Type'] = 'DEVICE'\n"
      ],
      "outputs": [],
      "execution_count": 14,
      "metadata": {}
    },
    {
      "cell_type": "code",
      "source": [
        "df_entity_list.head()"
      ],
      "outputs": [
        {
          "output_type": "execute_result",
          "execution_count": 15,
          "data": {
            "text/html": [
              "<div>\n",
              "<style scoped>\n",
              "    .dataframe tbody tr th:only-of-type {\n",
              "        vertical-align: middle;\n",
              "    }\n",
              "\n",
              "    .dataframe tbody tr th {\n",
              "        vertical-align: top;\n",
              "    }\n",
              "\n",
              "    .dataframe thead th {\n",
              "        text-align: right;\n",
              "    }\n",
              "</style>\n",
              "<table border=\"1\" class=\"dataframe\">\n",
              "  <thead>\n",
              "    <tr style=\"text-align: right;\">\n",
              "      <th></th>\n",
              "      <th>Text</th>\n",
              "      <th>Type</th>\n",
              "    </tr>\n",
              "  </thead>\n",
              "  <tbody>\n",
              "    <tr>\n",
              "      <th>0</th>\n",
              "      <td>iPhone X</td>\n",
              "      <td>DEVICE</td>\n",
              "    </tr>\n",
              "    <tr>\n",
              "      <th>1</th>\n",
              "      <td>iPhoneX</td>\n",
              "      <td>DEVICE</td>\n",
              "    </tr>\n",
              "    <tr>\n",
              "      <th>2</th>\n",
              "      <td>iphoneX</td>\n",
              "      <td>DEVICE</td>\n",
              "    </tr>\n",
              "    <tr>\n",
              "      <th>3</th>\n",
              "      <td>Samsung Galaxy</td>\n",
              "      <td>DEVICE</td>\n",
              "    </tr>\n",
              "    <tr>\n",
              "      <th>4</th>\n",
              "      <td>Samsung Note</td>\n",
              "      <td>DEVICE</td>\n",
              "    </tr>\n",
              "  </tbody>\n",
              "</table>\n",
              "</div>"
            ],
            "text/plain": [
              "             Text    Type\n",
              "0        iPhone X  DEVICE\n",
              "1         iPhoneX  DEVICE\n",
              "2         iphoneX  DEVICE\n",
              "3  Samsung Galaxy  DEVICE\n",
              "4    Samsung Note  DEVICE"
            ]
          },
          "metadata": {}
        }
      ],
      "execution_count": 15,
      "metadata": {}
    },
    {
      "cell_type": "markdown",
      "source": [
        "Let's create our training file. "
      ],
      "metadata": {}
    },
    {
      "cell_type": "code",
      "source": [
        "tweet_telco['text'].to_csv('./data/raw_txt.csv', encoding='utf-8', index=False)\n"
      ],
      "outputs": [],
      "execution_count": 19,
      "metadata": {}
    },
    {
      "cell_type": "code",
      "source": [
        "!head ./data/raw_txt.csv"
      ],
      "outputs": [
        {
          "output_type": "stream",
          "name": "stdout",
          "text": [
            "\"@sprintcare is the worst customer service | @115712 Can you please send us a private message, so that I can gain further details about your account?\"\r\n",
            "@sprintcare is the worst customer service | @115712 I would love the chance to review the account and provide assistance.\r\n",
            "@sprintcare is the worst customer service | @115712 Hello! We never like our customers to feel like they are not valued.\r\n",
            "\"@115714 y’all lie about your “great” connection. 5 bars LTE, still won’t load something. Smh. | @115713 H there! We'd definitely like to work with you on this, how long have you been experiencing this issue? -AA\"\r\n",
            "\"@115714 whenever I contact customer support, they tell me I have shortcode enabled on my account, but I have never in the 4 years I've tried https://t.co/0G98RtNxPK | @115715 Please send me a private message so that I can send you the link to access your account. -FR\"\r\n",
            "\"@115913 @115911 just called in to switch from AT&amp;T. They wanted $75 to switch 3 phones! I said no way! Inconsistent messaging - shame! | @115912 @115913 We always want to be upfront and honest with you, David. Please send a DM our way. https://t.co/lH0SH5fy2m *MikeRice\"\r\n",
            "@TMobileHelp trying to redeem a free tuesday code and its not letting me telling me theres an error can i get help with this? | @115914 Yay for T-Mobile Tuesdays- lets's get you taken care of! Send a DM my way: https://t.co/jGtdfLsVbg *ErikaHoleman\r\n",
            "\"T-Mobile So Bs My Internet Stop Working For 3 Hours https://t.co/YISXwAHace | @115915 Well, we'd be happy to take a look at that and see what's going on, Jenny. DM us, we're here to keep you connected. *JoanO\"\r\n",
            "No. That opportunity has passed. Bad customer experience @115911 &amp; @343   Not going back ever again. #FAIL https://t.co/05pINkDFGd | @115916 Hey we are here and we want to help! If you have any questions feel free to shoot us a DM! *KatGrisham\r\n",
            "\"@TMobileHelp @1247 The @10568 code is not working when applied at checkout. Can you please look into this? https://t.co/SJvM7AW24t | @115918 We want this to work perfectly! Do you have at least 10 photos selected? If not, add another and try. DM w/ any questions! *ChrisBradstreet\"\r\n"
          ]
        }
      ],
      "execution_count": 20,
      "metadata": {}
    },
    {
      "cell_type": "markdown",
      "source": [
        "Let's create the entity list file"
      ],
      "metadata": {}
    },
    {
      "cell_type": "code",
      "source": [
        "df_entity_list.to_csv('./data/entity_list.csv', encoding='utf-8', index=False)\n"
      ],
      "outputs": [],
      "execution_count": 21,
      "metadata": {}
    },
    {
      "cell_type": "code",
      "source": [
        "!head ./data/entity_list.csv"
      ],
      "outputs": [
        {
          "output_type": "stream",
          "name": "stdout",
          "text": [
            "Text,Type\r\n",
            "iPhone X,DEVICE\r\n",
            "iPhoneX,DEVICE\r\n",
            "iphoneX,DEVICE\r\n",
            "Samsung Galaxy,DEVICE\r\n",
            "Samsung Note,DEVICE\r\n",
            "iphone,DEVICE\r\n",
            "iPhone,DEVICE\r\n",
            "android,DEVICE\r\n",
            "Android,DEVICE\r\n"
          ]
        }
      ],
      "execution_count": 22,
      "metadata": {}
    },
    {
      "cell_type": "markdown",
      "source": [
        "Let's create a test file from our original telco tweet dataset."
      ],
      "metadata": {}
    },
    {
      "cell_type": "code",
      "source": [
        "tweet_telco['text'].tail(10000).to_csv('./data/telco_device_test.csv', encoding='utf-8', index=False)"
      ],
      "outputs": [],
      "execution_count": 23,
      "metadata": {}
    },
    {
      "cell_type": "markdown",
      "source": [
        "## Training our model\n",
        "\n",
        "I am going to use the console to submit custom entity recognizer job.\n",
        "\n",
        "My custom entity configuration looks like this.\n",
        "\n",
        "![title](./img/config.png)"
      ],
      "metadata": {}
    },
    {
      "cell_type": "markdown",
      "source": [
        "## Testing our custom entity model\n",
        "\n",
        "Let's invoke the Comprehend API to run our test job from the test file we prepared earlier."
      ],
      "metadata": {}
    },
    {
      "cell_type": "code",
      "source": [
        "aws comprehend start-entities-detection-job \\\n",
        "     --entity-recognizer-arn \"arn:aws:comprehend:us-east-1:202860692096:entity-recognizer/Twitter-Device-copy\" \\\n",
        "     --job-name Test \\\n",
        "     --data-access-role-arn \"arn:aws:iam::202860692096:role/service-role/AmazonComprehendServiceRole-AmazonComprehendServiceRole\" \\\n",
        "     --language-code en \\\n",
        "     --input-data-config \"S3Uri=s3://data-phi/telco_device_test.csv\" \\\n",
        "     --output-data-config \"S3Uri=s3://data-phi/telco_device_test.json\" \\\n",
        "     --region \"us-east-1\""
      ],
      "outputs": [],
      "execution_count": null,
      "metadata": {}
    },
    {
      "cell_type": "markdown",
      "source": [
        "The output will be a json file specified in my --output-data-config.\n",
        "I am going to use Glue and Athena to inspect our results.\n",
        "\n",
        "Here are the results for the following query.\n",
        "\n",
        "\"SELECT col3, count(col3) FROM \"comprehend\".\"telco_device_test_json\" group by col3;\"\n",
        "\n",
        "![title](./img/test.png)\n"
      ],
      "metadata": {
        "_uuid": "39751a13337cd09b32588e2d0fc5f7e7817cca8b"
      }
    },
    {
      "cell_type": "markdown",
      "source": [
        "Note that \"ipone\" was not part of the list of term we used to tag our dataset but our comprehend was able to pick with a certain number of confidence."
      ],
      "metadata": {}
    },
    {
      "cell_type": "code",
      "source": [],
      "outputs": [],
      "execution_count": null,
      "metadata": {}
    }
  ],
  "metadata": {
    "kernelspec": {
      "name": "python3",
      "language": "python",
      "display_name": "Python 3"
    },
    "language_info": {
      "name": "python",
      "version": "3.6.8",
      "mimetype": "text/x-python",
      "codemirror_mode": {
        "name": "ipython",
        "version": 3
      },
      "pygments_lexer": "ipython3",
      "nbconvert_exporter": "python",
      "file_extension": ".py"
    },
    "kernel_info": {
      "name": "python3"
    },
    "nteract": {
      "version": "0.15.0"
    }
  },
  "nbformat": 4,
  "nbformat_minor": 1
}